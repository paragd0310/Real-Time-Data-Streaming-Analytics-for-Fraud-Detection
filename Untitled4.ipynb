{
  "nbformat": 4,
  "nbformat_minor": 0,
  "metadata": {
    "colab": {
      "provenance": []
    },
    "kernelspec": {
      "name": "python3",
      "display_name": "Python 3"
    },
    "language_info": {
      "name": "python"
    }
  },
  "cells": [
    {
      "cell_type": "code",
      "execution_count": 4,
      "metadata": {
        "colab": {
          "base_uri": "https://localhost:8080/"
        },
        "id": "YJYTwtlNWScv",
        "outputId": "286e6557-9898-487a-cad4-fc47c0dd814a"
      },
      "outputs": [
        {
          "output_type": "stream",
          "name": "stdout",
          "text": [
            "Requirement already satisfied: azure-eventhub in /usr/local/lib/python3.11/dist-packages (5.14.0)\n",
            "Requirement already satisfied: azure-core>=1.27.0 in /usr/local/lib/python3.11/dist-packages (from azure-eventhub) (1.32.0)\n",
            "Requirement already satisfied: typing-extensions>=4.0.1 in /usr/local/lib/python3.11/dist-packages (from azure-eventhub) (4.12.2)\n",
            "Requirement already satisfied: requests>=2.21.0 in /usr/local/lib/python3.11/dist-packages (from azure-core>=1.27.0->azure-eventhub) (2.32.3)\n",
            "Requirement already satisfied: six>=1.11.0 in /usr/local/lib/python3.11/dist-packages (from azure-core>=1.27.0->azure-eventhub) (1.17.0)\n",
            "Requirement already satisfied: charset-normalizer<4,>=2 in /usr/local/lib/python3.11/dist-packages (from requests>=2.21.0->azure-core>=1.27.0->azure-eventhub) (3.4.1)\n",
            "Requirement already satisfied: idna<4,>=2.5 in /usr/local/lib/python3.11/dist-packages (from requests>=2.21.0->azure-core>=1.27.0->azure-eventhub) (3.10)\n",
            "Requirement already satisfied: urllib3<3,>=1.21.1 in /usr/local/lib/python3.11/dist-packages (from requests>=2.21.0->azure-core>=1.27.0->azure-eventhub) (2.3.0)\n",
            "Requirement already satisfied: certifi>=2017.4.17 in /usr/local/lib/python3.11/dist-packages (from requests>=2.21.0->azure-core>=1.27.0->azure-eventhub) (2025.1.31)\n"
          ]
        }
      ],
      "source": [
        "!pip install azure-eventhub\n"
      ]
    },
    {
      "cell_type": "code",
      "source": [
        "import json\n",
        "input_files = ['iteration-1.json', 'iteration-2.json', 'iteration-3.json']\n",
        "output_file = 'all_transactions_clean.json'\n",
        "\n",
        "with open(output_file, 'w') as outfile:\n",
        "    for file_name in input_files:\n",
        "        with open(file_name, 'r') as infile:\n",
        "            try:\n",
        "                data = json.load(infile)\n",
        "                for record in data:\n",
        "                    json.dump(record, outfile)\n",
        "                    outfile.write('\\n')\n",
        "                print(f\" Processed: {file_name} ({len(data)} records)\")\n",
        "            except Exception as e:\n",
        "                print(f\" Error in {file_name}: {e}\")\n"
      ],
      "metadata": {
        "colab": {
          "base_uri": "https://localhost:8080/"
        },
        "id": "5rpGH0weW1ip",
        "outputId": "bb2c2f9c-0a05-47d7-a753-e3fc9b3824c6"
      },
      "execution_count": 5,
      "outputs": [
        {
          "output_type": "stream",
          "name": "stdout",
          "text": [
            " Processed: iteration-1.json (8 records)\n",
            " Processed: iteration-2.json (8 records)\n",
            " Processed: iteration-3.json (10 records)\n"
          ]
        }
      ]
    },
    {
      "cell_type": "code",
      "source": [
        "import time\n",
        "import json\n",
        "from azure.eventhub import EventHubProducerClient, EventData\n",
        "\n",
        "connection_str = 'Endpoint=sb://frauddetectionnamespace.servicebus.windows.net/;SharedAccessKeyName=SendPolicy;SharedAccessKey=paH22p3v53GOkcyb2c4ZDW4uoQL1EjH6y+AEhBehJX0=;EntityPath=fraud-stream'\n",
        "eventhub_name = 'fraud-stream'\n",
        "json_file_path = 'all_transactions_clean.json'\n",
        "\n",
        "producer = EventHubProducerClient.from_connection_string(conn_str=connection_str, eventhub_name=eventhub_name)\n",
        "\n",
        "with open(json_file_path, 'r') as file:\n",
        "    for line in file:\n",
        "        try:\n",
        "            data = json.loads(line.strip())\n",
        "            event_data = EventData(json.dumps(data))\n",
        "            producer.send_batch([event_data])\n",
        "            print(f\" Sent: {data['transaction_id']}\")\n",
        "            time.sleep(1)\n",
        "        except Exception as e:\n",
        "            print(f\" Error: {e}\")\n",
        "\n",
        "producer.close()\n"
      ],
      "metadata": {
        "colab": {
          "base_uri": "https://localhost:8080/"
        },
        "id": "XvwKiHPtY3fw",
        "outputId": "29e7b233-bc63-4046-a848-ac2cc6570935"
      },
      "execution_count": 6,
      "outputs": [
        {
          "output_type": "stream",
          "name": "stdout",
          "text": [
            " Sent: tx001\n",
            " Sent: tx002\n",
            " Sent: tx003\n",
            " Sent: tx004\n",
            " Sent: tx005\n",
            " Sent: tx006\n",
            " Sent: tx007\n",
            " Sent: tx008\n",
            " Sent: tx001\n",
            " Sent: tx002\n",
            " Sent: tx003\n",
            " Sent: tx011\n",
            " Sent: tx012\n",
            " Sent: tx013\n",
            " Sent: tx014\n",
            " Sent: tx015\n",
            " Sent: tx016\n",
            " Sent: tx017\n",
            " Sent: tx018\n",
            " Sent: tx019\n",
            " Sent: tx020\n",
            " Sent: tx021\n",
            " Sent: tx022\n",
            " Sent: tx023\n",
            " Sent: tx024\n",
            " Sent: tx025\n"
          ]
        }
      ]
    }
  ]
}